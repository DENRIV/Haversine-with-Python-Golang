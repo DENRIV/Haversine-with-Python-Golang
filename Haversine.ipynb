{
 "cells": [
  {
   "cell_type": "code",
   "execution_count": 1,
   "metadata": {},
   "outputs": [
    {
     "name": "stdout",
     "output_type": "stream",
     "text": [
      "152.96923374692167 km\n"
     ]
    }
   ],
   "source": [
    "# Haversine\n",
    "\n",
    "from math import radians, cos, sin, asin, sqrt\n",
    "\n",
    "def haversine(lat1, lon1, lat2, lon2):\n",
    "      # R = 3959.87433 \n",
    "      # this is in miles.  For Earth radius in kilometers use 6372.8 km\n",
    "      R = 6372.8    # this is in Km, Earth radius in kilometers \n",
    "    \n",
    "      # convert decimal degrees to radians \n",
    "      dLat = radians(lat2 - lat1)\n",
    "      dLon = radians(lon2 - lon1)\n",
    "      lat1 = radians(lat1)\n",
    "      lat2 = radians(lat2)\n",
    "\n",
    "      a = sin(dLat/2)**2 + cos(lat1)*cos(lat2)*sin(dLon/2)**2\n",
    "      c = 2*asin(sqrt(a))\n",
    "\n",
    "      return R * c\n",
    "\n",
    "# Usage\n",
    "lon1 = -103.548851\n",
    "lat1 = 32.0004311\n",
    "\n",
    "lon2 = -103.6041946\n",
    "lat2 = 33.374939\n",
    "\n",
    "print(haversine(lat1, lon1, lat2, lon2), \"km\")"
   ]
  },
  {
   "cell_type": "code",
   "execution_count": 2,
   "metadata": {},
   "outputs": [
    {
     "name": "stdout",
     "output_type": "stream",
     "text": [
      "152.96923374255132 km\n"
     ]
    }
   ],
   "source": [
    "# Haversine\n",
    "\n",
    "from math import cos, sin, asin, sqrt\n",
    "\n",
    "def degree_to_radian(val_degree):\n",
    "    #pi=22/7\n",
    "    pi = 3.1415926535\n",
    "    val_radian = val_degree*(pi/180)\n",
    "    return val_radian\n",
    "\n",
    "def haversine(lat1, lon1, lat2, lon2):\n",
    "\n",
    "      #R = 3959.87433 # this is in miles.  For Earth radius in kilometers use 6372.8 km\n",
    "      R = 6372.8    # this is in Km, Earth radius in kilometers \n",
    "    \n",
    "      # convert decimal degrees to radians \n",
    "      dLat = degree_to_radian(lat2 - lat1)\n",
    "      dLon = degree_to_radian(lon2 - lon1)\n",
    "      lat1 = degree_to_radian(lat1)\n",
    "      lat2 = degree_to_radian(lat2)\n",
    "\n",
    "      a = sin(dLat/2)**2 + cos(lat1)*cos(lat2)*sin(dLon/2)**2\n",
    "      c = 2*asin(sqrt(a))\n",
    "\n",
    "      return R * c\n",
    "\n",
    "# Usage\n",
    "lon1 = -103.548851\n",
    "lat1 = 32.0004311\n",
    "\n",
    "lon2 = -103.6041946\n",
    "lat2 = 33.374939\n",
    "\n",
    "print(haversine(lat1, lon1, lat2, lon2), \"km\")"
   ]
  },
  {
   "cell_type": "code",
   "execution_count": 3,
   "metadata": {},
   "outputs": [
    {
     "name": "stdout",
     "output_type": "stream",
     "text": [
      "-103.548851 32.0004311 -103.6041946 32.374939 distance: 41.979645196733294 km out   20 km\n",
      "-103.548851 32.0004311 -103.6041946 32.174939 distance: 20.098323362112293 km out   20 km\n",
      "-103.548851 32.0004311 -103.6041946 32.154939 distance: 17.959440574299848 km in    20 km\n"
     ]
    }
   ],
   "source": [
    "lon1 = -103.548851\n",
    "lat1 = 32.0004311\n",
    "'''\n",
    "lon2 = -103.6041946\n",
    "lat2 = 32.374939\n",
    "\n",
    "lon2 = -103.6041946\n",
    "lat2 = 32.174939\n",
    "\n",
    "lon2 = -103.6041946\n",
    "lat2 = 32.154939\n",
    "'''\n",
    "lst_lon = [-103.6041946,-103.6041946,-103.6041946]\n",
    "lst_lat = [32.374939   ,32.174939   ,32.154939]\n",
    "\n",
    "for idx, e in enumerate(lst_lon):\n",
    "    inout = \"out\"\n",
    "    rangekm = 20       \n",
    "    lon2 = lst_lon[idx]\n",
    "    lat2 = lst_lat[idx]\n",
    "    d = haversine(lat1, lon1, lat2, lon2)\n",
    "    if d<=rangekm:\n",
    "        inout = \"in \"\n",
    "    print(lon1,lat1,lon2,lat2, \"distance:\",d, \"km\", inout , \" \" , rangekm , \"km\" )"
   ]
  }
 ],
 "metadata": {
  "kernelspec": {
   "display_name": "Python 3",
   "language": "python",
   "name": "python3"
  },
  "language_info": {
   "codemirror_mode": {
    "name": "ipython",
    "version": 3
   },
   "file_extension": ".py",
   "mimetype": "text/x-python",
   "name": "python",
   "nbconvert_exporter": "python",
   "pygments_lexer": "ipython3",
   "version": "3.7.1"
  }
 },
 "nbformat": 4,
 "nbformat_minor": 2
}
